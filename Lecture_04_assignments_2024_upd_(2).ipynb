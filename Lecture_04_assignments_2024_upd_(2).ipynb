{
  "metadata": {
    "kernelspec": {
      "name": "python",
      "display_name": "Python (Pyodide)",
      "language": "python"
    },
    "language_info": {
      "codemirror_mode": {
        "name": "python",
        "version": 3
      },
      "file_extension": ".py",
      "mimetype": "text/x-python",
      "name": "python",
      "nbconvert_exporter": "python",
      "pygments_lexer": "ipython3",
      "version": "3.8"
    },
    "colab": {
      "provenance": [],
      "include_colab_link": true
    }
  },
  "nbformat_minor": 0,
  "nbformat": 4,
  "cells": [
    {
      "cell_type": "markdown",
      "metadata": {
        "id": "view-in-github",
        "colab_type": "text"
      },
      "source": [
        "<a href=\"https://colab.research.google.com/github/marinasemushina/-_-3/blob/main/Lecture_04_assignments_2024_upd_(2).ipynb\" target=\"_parent\"><img src=\"https://colab.research.google.com/assets/colab-badge.svg\" alt=\"Open In Colab\"/></a>"
      ]
    },
    {
      "cell_type": "markdown",
      "source": [
        "# **Важно!**\n",
        "\n",
        "Домашнее задание состоит из нескольких задач, которые вам нужно решить.\n",
        "*   Баллы выставляются по принципу выполнено/невыполнено.\n",
        "*   За каждую выполненую задачу вы получаете баллы (количество баллов за задание указано в скобках).\n",
        "\n",
        "**Инструкция выполнения:** Выполните задания в этом же ноутбуке (места под решения **КАЖДОЙ** задачи обозначены как **#НАЧАЛО ВАШЕГО РЕШЕНИЯ** и **#КОНЕЦ ВАШЕГО РЕШЕНИЯ**)\n",
        "\n",
        "**Как отправить задание на проверку:** Вам необходимо сохранить ваше решение в данном блокноте и отправить итоговый **файл .IPYNB** на учебной платформе в **стандартную форму сдачи домашнего задания.**\n",
        "\n",
        "**Срок проверки преподавателем:** домашнее задание проверяется **в течение 3 дней после дедлайна сдачи** с предоставлением обратной связи\n",
        "\n",
        "# **Прежде чем проверять задания:**\n",
        "\n",
        "1. Перезапустите **ядро (restart the kernel)**: в меню, выбрать **Ядро (Kernel)**\n",
        "→ **Перезапустить (Restart)**\n",
        "2. Затем **Выполнить** **все ячейки (run all cells)**: в меню, выбрать **Ячейка (Cell)**\n",
        "→ **Запустить все (Run All)**.\n",
        "\n",
        "После ячеек с заданием следуют ячейки с проверкой **с помощью assert.**\n",
        "\n",
        "Если в коде есть ошибки, assert выведет уведомление об ошибке.\n",
        "\n",
        "Если в коде нет ошибок, assert отработает без вывода дополнительной информации."
      ],
      "metadata": {
        "id": "rzEKuROcm5SP"
      }
    },
    {
      "cell_type": "markdown",
      "source": [
        "---"
      ],
      "metadata": {
        "id": "IvjzKaM9m5ST"
      }
    },
    {
      "cell_type": "markdown",
      "source": [
        "# Домашнее задание №4. Линейная классификация. Логистическая регрессия. Метод опорных векторов.\n",
        "\n",
        "**Цели домашнего задания:** Решить проблемы бинарной классификации вручную. Решить многоклассовую классификацию на примере датасета рукописных цифр MNIST с помощью готовых библиотек. Реализовать метод опорных векторов."
      ],
      "metadata": {
        "id": "I15VyW-1m5ST"
      }
    },
    {
      "cell_type": "code",
      "source": [
        "# Запустите эту ячейку для первоначальной настройки\n",
        "import numpy as np\n",
        "import pandas as pd\n",
        "import matplotlib.pyplot as plt\n",
        "\n",
        "plt.style.use('fivethirtyeight')\n",
        "plt.rc('lines', linewidth=2)"
      ],
      "metadata": {
        "deletable": false,
        "editable": false,
        "nbgrader": {
          "cell_type": "code",
          "checksum": "5c9ae45022783898a2aea57e451b47eb",
          "grade": false,
          "grade_id": "cell-d9e9033e8e7687c7",
          "locked": true,
          "schema_version": 3,
          "solution": false,
          "task": false
        },
        "id": "GMC4cNE2m5SU",
        "trusted": true
      },
      "outputs": [],
      "execution_count": 29
    },
    {
      "cell_type": "markdown",
      "source": [
        "## Часть 1. Реализация алгоритма линейной классификации для бинарных данных\n",
        "\n",
        "В этой части, мы создадим синтетический набор бинарных данных и обучим модель вручную. Для этого нам неодходимо написать функцию сигмоиды, вычислить функцию потерь и её производную, чтобы использовать их во время градиентного спуска."
      ],
      "metadata": {
        "deletable": false,
        "editable": false,
        "nbgrader": {
          "cell_type": "markdown",
          "checksum": "9aa8fc14a3b822858f8162d40474eaac",
          "grade": false,
          "grade_id": "cell-cbe327c5d8b4bfb1",
          "locked": true,
          "schema_version": 3,
          "solution": false,
          "task": false
        },
        "id": "6bg9-fuim5SV"
      }
    },
    {
      "cell_type": "markdown",
      "source": [
        "**Задание 1 (1 балл)**\n",
        "\n",
        "Реализуйте функцию сигмоиды `sigmoid(z)`."
      ],
      "metadata": {
        "id": "G25H-QgTSFJ4"
      }
    },
    {
      "cell_type": "code",
      "source": [
        "# НАЧАЛО ВАШЕГО РЕШЕНИЯ\n",
        "def sigmoid(z):\n",
        "    return 1 / (1 + np.exp(-z))\n",
        "# КОНЕЦ ВАШЕГО РЕШЕНИЯ"
      ],
      "metadata": {
        "id": "TJT9GfQ8SD2d",
        "trusted": true
      },
      "outputs": [],
      "execution_count": 30
    },
    {
      "cell_type": "code",
      "source": [
        "assert np.isclose(sigmoid(5), 1, atol=0.01)"
      ],
      "metadata": {
        "id": "smoL8PTgjyKq",
        "trusted": true
      },
      "outputs": [],
      "execution_count": 31
    },
    {
      "cell_type": "markdown",
      "source": [
        "**Задание 2 (1 балл)**\n",
        "\n",
        "Реализуйте логистическую функцию потерь `compute_cost(y, y_pred)`.\n",
        "\n"
      ],
      "metadata": {
        "id": "5oFH0MhKkasJ"
      }
    },
    {
      "cell_type": "code",
      "source": [
        "# НАЧАЛО ВАШЕГО РЕШЕНИЯ\n",
        "def compute_cost(y, y_pred):\n",
        "    # Убедимся, что y_pred находится в пределах (0, 1)\n",
        "    y_pred = np.clip(y_pred, 1e-15, 1 - 1e-15)\n",
        "\n",
        "    # Вычисляем логистическую функцию потерь\n",
        "    cost = -np.mean(y * np.log(y_pred) + (1 - y) * np.log(1 - y_pred))\n",
        "\n",
        "    return cost\n",
        "# КОНЕЦ ВАШЕГО РЕШЕНИЯ"
      ],
      "metadata": {
        "id": "JaYP4OliknMy",
        "trusted": true
      },
      "outputs": [],
      "execution_count": 32
    },
    {
      "cell_type": "code",
      "source": [
        "y_pred = np.array([0.1, 0.8, 0.4])\n",
        "y = np.array([0, 1, 0])\n",
        "\n",
        "assert np.isclose(compute_cost(y, y_pred), 0.28, atol=0.01)"
      ],
      "metadata": {
        "id": "PikqHrBBjJH1",
        "trusted": true
      },
      "outputs": [],
      "execution_count": 33
    },
    {
      "cell_type": "markdown",
      "source": [
        "**Задание 3 (1 балл)**\n",
        "\n",
        "Реализуйте градиент логистической функции потерь `compute_gradient(X, y, w)`."
      ],
      "metadata": {
        "id": "Es3WCeiBlv9c"
      }
    },
    {
      "cell_type": "code",
      "source": [
        "def compute_gradient(X, y, w):\n",
        "    # НАЧАЛО ВАШЕГО РЕШЕНИЯ\n",
        "    m = X.shape[0]  # Количество образцов\n",
        "    y_pred = sigmoid(np.dot(X, w))  # Предсказанные вероятности\n",
        "    gradient = (1/m) * np.dot(X.T, (y_pred - y))  # Градиент\n",
        "    # КОНЕЦ ВАШЕГО РЕШЕНИЯ\n",
        "    return gradient"
      ],
      "metadata": {
        "id": "wp4JDp5GpOyi",
        "trusted": true
      },
      "outputs": [],
      "execution_count": 34
    },
    {
      "cell_type": "code",
      "source": [
        "X = np.array([[1, 2], [1, 3], [1, 4]])  # Пример данных с добавленным bias term\n",
        "y = np.array([0, 1, 0])  # Метки классов\n",
        "weights = np.array([0.1, -0.2])  # Начальные веса\n",
        "\n",
        "assert np.allclose(compute_gradient(X, y, weights), [0.04, 0.10], atol=0.01)"
      ],
      "metadata": {
        "id": "0jpwBVjepofV",
        "trusted": true
      },
      "outputs": [],
      "execution_count": 35
    },
    {
      "cell_type": "markdown",
      "source": [
        "**Задание 4 (1 балл)**\n",
        "\n",
        "По аналогии с предыдущим домашним заданием, реализуйте функцию градиентного спуска."
      ],
      "metadata": {
        "id": "7kxhZ7XTkpMj"
      }
    },
    {
      "cell_type": "code",
      "source": [
        "# Функция градиентного спуска для бинарных данных\n",
        "def gradient_descent(X, y, w, learning_rate, num_iterations):\n",
        "    m = len(y)  # Количество примеров\n",
        "    w_tmp = w.copy()  # Создаем временную переменную для весов\n",
        "    for i in range(num_iterations):\n",
        "        # Предсказания модели\n",
        "        y_pred = sigmoid(np.dot(X, w_tmp))\n",
        "\n",
        "        # Вычисление градиента\n",
        "        gradient = compute_gradient(X, y, w_tmp)\n",
        "\n",
        "        # Обновление весов\n",
        "        w_tmp -= learning_rate * gradient\n",
        "\n",
        "        # Вывод потерь каждые 100 итераций\n",
        "        if i % 100 == 0:\n",
        "            loss = compute_cost(y, y_pred)\n",
        "            print(f\"Итерация {i}: Потери = {loss}\")\n",
        "\n",
        "    return w_tmp  # Возвращаем обновленные веса"
      ],
      "metadata": {
        "trusted": true,
        "id": "ZQti7A-598Lv"
      },
      "outputs": [],
      "execution_count": 36
    },
    {
      "cell_type": "code",
      "source": [
        "assert np.allclose(gradient_descent(X, y, weights, 0.03, 300), [-0.01, -0.22], atol=0.01)"
      ],
      "metadata": {
        "colab": {
          "base_uri": "https://localhost:8080/"
        },
        "id": "88kqK3_qlMKJ",
        "outputId": "0a364f29-eba4-4bfe-da68-c7709cc3c9e9",
        "trusted": true
      },
      "outputs": [
        {
          "output_type": "stream",
          "name": "stdout",
          "text": [
            "Итерация 0: Потери = 0.6438727591780307\n",
            "Итерация 100: Потери = 0.6408436541471703\n",
            "Итерация 200: Потери = 0.6404881766498652\n"
          ]
        }
      ],
      "execution_count": 37
    },
    {
      "cell_type": "markdown",
      "source": [
        "**Задание 5 (1 балл)**\n",
        "\n",
        "Подготовьте синтетические бинарные данные с помощью команды из библиотеки `sklearn`. Используйте функцию `make_classification`. Создайте 200 точек с двумя признаками и двумя классами, без излишних признаков (`n_redundant=0`). Зафиксируйте `random_state=42`. Добавьте столбец единиц к данным для свободного члена."
      ],
      "metadata": {
        "id": "mUDp-KAk7F0E"
      }
    },
    {
      "cell_type": "code",
      "source": [
        "from sklearn.datasets import make_classification\n",
        "import matplotlib.pyplot as plt\n",
        "import numpy as np\n",
        "\n",
        "# НАЧАЛО ВАШЕГО РЕШЕНИЯ\n",
        "# Создаем синтетические бинарные данные\n",
        "X, y = make_classification(n_samples=200, n_features=2, n_informative=2,\n",
        "                           n_redundant=0, n_clusters_per_class=1,\n",
        "                           random_state=42)\n",
        "\n",
        "# Добавляем столбец единиц для свободного члена\n",
        "X_with_intercept = np.hstack((np.ones((X.shape[0], 1)), X))\n",
        "# КОНЕЦ ВАШЕГО РЕШЕНИЯ\n",
        "\n",
        "# Визуализация данных\n",
        "plt.figure(figsize=(8, 6))\n",
        "plt.scatter(X[y == 0, 0], X[y == 0, 1], color='blue', label='Класс 0', alpha=0.7)\n",
        "plt.scatter(X[y == 1, 0], X[y == 1, 1], color='red', label='Класс 1', alpha=0.7)\n",
        "plt.title(\"Синтетические бинарные данные\")\n",
        "plt.xlabel(\"Признак 1\")\n",
        "plt.ylabel(\"Признак 2\")\n",
        "plt.legend()\n",
        "plt.grid(alpha=0.3)\n",
        "plt.show()"
      ],
      "metadata": {
        "id": "GXZ4aege77Yo",
        "trusted": true,
        "colab": {
          "base_uri": "https://localhost:8080/",
          "height": 606
        },
        "outputId": "063f4158-d38c-490f-8f76-68fd14e4e388"
      },
      "outputs": [
        {
          "output_type": "display_data",
          "data": {
            "text/plain": [
              "<Figure size 800x600 with 1 Axes>"
            ],
            "image/png": "[encoded data removed]"
          },
          "metadata": {}
        }
      ],
      "execution_count": 39
    },
    {
      "cell_type": "markdown",
      "source": [
        "**Задание 6 (1 балл)**\n",
        "\n",
        "Создайте новую переменную `X_ones`, добавив столбец единиц к данным для свободного члена с помощью `numpy` команды `concatenate`. Разбейте данные на тренировочную и тестовую выборки, выделив 20% данных под тестирование. Инициализируйте веса `weights` случайным образом."
      ],
      "metadata": {
        "id": "9elAF0IJxoKa"
      }
    },
    {
      "cell_type": "code",
      "source": [
        "from sklearn.model_selection import train_test_split\n",
        "# Не удаляйте и не меняйте seed\n",
        "np.random.seed(21)\n",
        "\n",
        "# НАЧАЛО ВАШЕГО РЕШЕНИЯ\n",
        "# Добавляем столбец единиц для свободного члена с помощью concatenate\n",
        "X_ones = np.concatenate((np.ones((X.shape[0], 1)), X), axis=1)\n",
        "\n",
        "# Разделяем данные на тренировочную и тестовую выборки (80% - 20%)\n",
        "X_train, X_test, y_train, y_test = train_test_split(X_ones, y, test_size=0.2, random_state=21)\n",
        "\n",
        "# Инициализируем веса случайным образом\n",
        "weights = np.random.rand(X_train.shape[1])  # Количество весов равно количеству признаков\n",
        "# КОНЕЦ ВАШЕГО РЕШЕНИЯ"
      ],
      "metadata": {
        "id": "GRhM9kJISB64",
        "trusted": true
      },
      "outputs": [],
      "execution_count": 41
    },
    {
      "cell_type": "code",
      "source": [
        "assert X_ones.shape[1]==3 and X_ones.shape[0]==200\n",
        "assert weights.shape[0]==3"
      ],
      "metadata": {
        "id": "0xGerQDd-e2k",
        "trusted": true
      },
      "outputs": [],
      "execution_count": 42
    },
    {
      "cell_type": "markdown",
      "source": [
        "**Задание 7 (1 балл)**\n",
        "\n",
        "Обучите модель и предскажите значения для тестовой выборки. Вычислите значение функции потерь для тестовой выборки, `test_cost`.\n",
        "\n",
        "*Hint!* Не забудьте сигмоиду ;)"
      ],
      "metadata": {
        "id": "S89lM8R4_cyZ"
      }
    },
    {
      "cell_type": "code",
      "source": [
        "# НАЧАЛО ВАШЕГО РЕШЕНИЯ\n",
        "# Предсказание значений для тестовой выборки\n",
        "# Обучаем модель\n",
        "learning_rate = 0.005\n",
        "num_iterations = 1000\n",
        "final_weights = gradient_descent(X_train, y_train, weights, learning_rate, num_iterations)\n",
        "\n",
        "# Предсказание значений для тестовой выборки\n",
        "y_test_pred = sigmoid(np.dot(X_test, final_weights))\n",
        "\n",
        "# Вычисляем значение функции потерь для тестовой выборки\n",
        "test_cost = compute_cost(y_test, y_test_pred)\n",
        "\n",
        "print(\"Финальные веса:\", final_weights)\n",
        "print(\"Значение функции потерь для тестовой выборки:\", test_cost)\n",
        "# КОНЕЦ ВАШЕГО РЕШЕНИЯ"
      ],
      "metadata": {
        "colab": {
          "base_uri": "https://localhost:8080/"
        },
        "id": "QxyONJqO_bCk",
        "outputId": "aed1731d-8f11-47bf-f963-57c9dfc2c39e",
        "trusted": true
      },
      "outputs": [
        {
          "output_type": "stream",
          "name": "stdout",
          "text": [
            "Итерация 0: Потери = 0.7016466865202388\n",
            "Итерация 100: Потери = 0.6219576672575974\n",
            "Итерация 200: Потери = 0.5670179083578425\n",
            "Итерация 300: Потери = 0.5294456423405457\n",
            "Итерация 400: Потери = 0.5033884584082869\n",
            "Итерация 500: Потери = 0.48483927191570225\n",
            "Итерация 600: Потери = 0.4712299216247212\n",
            "Итерация 700: Потери = 0.4609448209007302\n",
            "Итерация 800: Потери = 0.4529606461148111\n",
            "Итерация 900: Потери = 0.4466163980464316\n",
            "Финальные веса: [-0.18973363  1.04470641  0.06759545]\n",
            "Значение функции потерь для тестовой выборки: 0.3065027114501116\n"
          ]
        }
      ],
      "execution_count": 43
    },
    {
      "cell_type": "code",
      "source": [
        "assert np.isclose(test_cost, 0.3, atol=0.01)"
      ],
      "metadata": {
        "id": "2gOUhtCHCfdG",
        "trusted": true
      },
      "outputs": [],
      "execution_count": 44
    },
    {
      "cell_type": "markdown",
      "source": [
        "## Часть 2. Реализация алгоритма бинарной классификации sklearn. Сравнение результатов."
      ],
      "metadata": {
        "id": "5GuwTkXREvj0"
      }
    },
    {
      "cell_type": "markdown",
      "source": [
        "**Задание 8 (1 балл)**\n",
        "\n",
        "Реализуйте обучение на тех же данных с помощью готовой функции `LogisticRegression` из `sklearn.linear_model`. Предскажите вероятности для тестовой выборки с помощью метода `predict_proba` и оцените качество обучения при помощи `log_loss` из `sklearn.metrics`. Запишите значение функции потерь в переменную `cost_sklearn`."
      ],
      "metadata": {
        "id": "lIbR7L-NFbjS"
      }
    },
    {
      "cell_type": "code",
      "source": [
        "from sklearn.linear_model import LogisticRegression\n",
        "from sklearn.metrics import log_loss\n",
        "\n",
        "# НАЧАЛО ВАШЕГО РЕШЕНИЯ\n",
        "# Разделение данных на обучающую и тестовую выборки\n",
        "X_train, X_test, y_train, y_test = train_test_split(X, y, test_size=0.2, random_state=40)\n",
        "\n",
        "# Инициализация и обучение модели Logistic Regression\n",
        "model = LogisticRegression()\n",
        "model.fit(X_train, y_train)\n",
        "\n",
        "# Предсказание вероятностей для тестовой выборки\n",
        "y_pred_proba = model.predict_proba(X_test)\n",
        "\n",
        "# Оценка качества обучения с помощью log_loss\n",
        "cost_sklearn = log_loss(y_test, y_pred_proba)\n",
        "\n",
        "print(\"Значение функции потерь (log_loss):\", cost_sklearn)\n",
        "# КОНЕЦ ВАШЕГО РЕШЕНИЯ"
      ],
      "metadata": {
        "id": "yxAt028LEv4F",
        "trusted": true,
        "colab": {
          "base_uri": "https://localhost:8080/"
        },
        "outputId": "bf45bc75-45a7-487c-d2a9-a6d028afc162"
      },
      "outputs": [
        {
          "output_type": "stream",
          "name": "stdout",
          "text": [
            "Значение функции потерь (log_loss): 0.3022098482739198\n"
          ]
        }
      ],
      "execution_count": 45
    },
    {
      "cell_type": "code",
      "source": [
        "assert np.isclose(cost_sklearn, 0.3, atol=0.01)"
      ],
      "metadata": {
        "id": "cpuBZ9I6Gh5C",
        "trusted": true
      },
      "outputs": [],
      "execution_count": 46
    },
    {
      "cell_type": "markdown",
      "source": [
        "Обратите внимание, что мы получили схожие значения функций потерь обоими методами.\n",
        "Теперь мы можем перейти к многоклассовой классификации."
      ],
      "metadata": {
        "id": "1qiLd8iMGp7y"
      }
    },
    {
      "cell_type": "markdown",
      "source": [
        "## Часть 3. Реализация алгоритма многоклассовой классификации на примере данных `digits`.\n",
        "\n"
      ],
      "metadata": {
        "id": "3K8qktCJuMB5"
      }
    },
    {
      "cell_type": "markdown",
      "source": [
        "Теперь, когда мы разобрались с тем, как работает обучение модели бинарной классификации, мы можем перейти к проблеме многих классов. В качестве примера, рассмотрим задачу классификации рукописных цифр из классического набора данных `digits`. Первым шагом необходимо загрузить данные. Мы будем использовать функцию `load_digits` из модуля `sklearn.datasets`, которая загрузит набор данных `digits` с цифрами от 0 до 9."
      ],
      "metadata": {
        "id": "g2_025qTv4kZ"
      }
    },
    {
      "cell_type": "code",
      "source": [
        "from sklearn.datasets import load_digits\n",
        "from sklearn.metrics import accuracy_score, precision_score, recall_score, f1_score\n",
        "import matplotlib.pyplot as plt\n",
        "\n",
        "digits = load_digits()\n",
        "X = digits.data # изображения, преобразованные из матрицы (8, 8) в вектор (64,)\n",
        "y = digits.target"
      ],
      "metadata": {
        "deletable": false,
        "editable": false,
        "nbgrader": {
          "cell_type": "code",
          "checksum": "3329526413375c3a5ce82d7a8badf554",
          "grade": false,
          "grade_id": "cell-dc48db25ce0a4632",
          "locked": true,
          "schema_version": 3,
          "solution": false,
          "task": false
        },
        "id": "2cldPSWPm5SV",
        "trusted": true
      },
      "outputs": [],
      "execution_count": 47
    },
    {
      "cell_type": "markdown",
      "source": [
        "Для визуализации цифр из набора данных, загруженного с помощью библиотеки scikit-learn, можно использовать функцию `imshow() `библиотеки Matplotlib."
      ],
      "metadata": {
        "deletable": false,
        "editable": false,
        "nbgrader": {
          "cell_type": "markdown",
          "checksum": "b1815bf5d77a55487e5dc78b157621c6",
          "grade": false,
          "grade_id": "cell-c2e5221eda286ef9",
          "locked": true,
          "schema_version": 3,
          "solution": false,
          "task": false
        },
        "id": "zpWahM82m5SV"
      }
    },
    {
      "cell_type": "code",
      "source": [
        "# Визуализация нескольких случайных изображений цифр\n",
        "indices = np.random.choice(len(X), 10, replace=False)\n",
        "random_digits = X[indices]\n",
        "\n",
        "# Создаём сетку 5x2 для отображения изображений\n",
        "fig, axes = plt.subplots(nrows=2, ncols=5, figsize=(10, 6))\n",
        "\n",
        "# Строим картинки в каждой ячейке сетки\n",
        "for i, ax in enumerate(axes.flat):\n",
        "    ax.imshow(random_digits[i].reshape((8,8)), cmap='gray')\n",
        "    ax.axis('off')  # Убираем оси\n",
        "\n",
        "# Эта команда помогает избегать наложений объектов графика\n",
        "plt.tight_layout()\n",
        "plt.show()"
      ],
      "metadata": {
        "deletable": false,
        "editable": false,
        "nbgrader": {
          "cell_type": "code",
          "checksum": "68d6357f48473319a0b66b00bd3d0204",
          "grade": false,
          "grade_id": "cell-e9aa8c506f284875",
          "locked": true,
          "schema_version": 3,
          "solution": false,
          "task": false
        },
        "colab": {
          "base_uri": "https://localhost:8080/",
          "height": 465
        },
        "id": "oF6tYNyLm5SW",
        "outputId": "1def4eee-720b-4eef-a5df-13cdb4e9ea9a",
        "trusted": true
      },
      "outputs": [
        {
          "output_type": "display_data",
          "data": {
            "text/plain": [
              "<Figure size 1000x600 with 10 Axes>"
            ],
            "image/png": "[encoded data removed]"
          },
          "metadata": {}
        }
      ],
      "execution_count": 48
    },
    {
      "cell_type": "markdown",
      "source": [
        "Как обычно, необходимо разделить данные на обучающую и тестовую выборки:"
      ],
      "metadata": {
        "deletable": false,
        "editable": false,
        "nbgrader": {
          "cell_type": "markdown",
          "checksum": "892b14072309db9fdc13ffc24d4b60dd",
          "grade": false,
          "grade_id": "cell-72972e0fb60029b1",
          "locked": true,
          "schema_version": 3,
          "solution": false,
          "task": false
        },
        "id": "5i8hCYecm5SW"
      }
    },
    {
      "cell_type": "code",
      "source": [
        "from sklearn.model_selection import train_test_split\n",
        "\n",
        "X_train, X_test, y_train, y_test = train_test_split(X, y, test_size=0.2, random_state=21)"
      ],
      "metadata": {
        "deletable": false,
        "editable": false,
        "nbgrader": {
          "cell_type": "code",
          "checksum": "e47fee4b5879a5bb7708cb6a783f99cf",
          "grade": false,
          "grade_id": "cell-7f82013d663dd86f",
          "locked": true,
          "schema_version": 3,
          "solution": false,
          "task": false
        },
        "id": "Z_NidS4Im5SW",
        "trusted": true
      },
      "outputs": [],
      "execution_count": 49
    },
    {
      "cell_type": "markdown",
      "source": [
        "**Задание 9 (1 балл)**\n",
        "\n",
        "Создайте по экземпляру класса `LogisticRegression` (`sklearn.linear_model`) и `SVC` (`sklearn.svm`). Внимательно почитайте официальную [документацию OneVsRestClassifier](https://scikit-learn.org/1.5/modules/generated/sklearn.multiclass.OneVsRestClassifier.html), обратите внимание на то, какие аргументы принимает этот класс. Назовите их `softmax_model` и `ovr_model`, соответственно. Обучите обе модели на данных MNIST. Сделайте предсказания для тестовой выборки."
      ],
      "metadata": {
        "deletable": false,
        "editable": false,
        "nbgrader": {
          "cell_type": "markdown",
          "checksum": "1f60fe43b5949f3b67658703cbd02f95",
          "grade": false,
          "grade_id": "cell-96d54fd4782001f5",
          "locked": true,
          "schema_version": 3,
          "solution": false,
          "task": false
        },
        "id": "4tF3iC9Tm5SX"
      }
    },
    {
      "cell_type": "code",
      "source": [
        "import numpy as np\n",
        "from sklearn.datasets import fetch_openml\n",
        "from sklearn.linear_model import LogisticRegression\n",
        "from sklearn.svm import SVC\n",
        "from sklearn.model_selection import train_test_split\n",
        "from sklearn.metrics import accuracy_score, log_loss\n",
        "from sklearn.multiclass import OneVsRestClassifier\n",
        "\n",
        "np.random.seed(21)\n",
        "\n",
        "# Создание моделей\n",
        "softmax_model = LogisticRegression(max_iter=1000)\n",
        "svm_model = SVC(probability=True, max_iter=1000)\n",
        "\n",
        "# Обучение моделей\n",
        "softmax_model.fit(X_train, y_train)\n",
        "svm_model.fit(X_train, y_train)\n",
        "\n",
        "# Предсказания на тестовой выборке\n",
        "softmax_predictions = softmax_model.predict(X_test)\n",
        "svm_predictions = svm_model.predict(X_test)\n",
        "\n",
        "# Оценка производительности моделей\n",
        "softmax_accuracy = accuracy_score(y_test, softmax_predictions)\n",
        "svm_accuracy = accuracy_score(y_test, svm_predictions)\n",
        "\n",
        "softmax_precision = precision_score(y_test, softmax_predictions, average='weighted')\n",
        "svm_precision = precision_score(y_test, svm_predictions, average='weighted')\n",
        "\n",
        "softmax_recall = recall_score(y_test, softmax_predictions, average='weighted')\n",
        "svm_recall = recall_score(y_test, svm_predictions, average='weighted')\n",
        "\n",
        "softmax_f1 = f1_score(y_test, softmax_predictions, average='weighted')\n",
        "svm_f1 = f1_score(y_test, svm_predictions, average='weighted')\n",
        "\n",
        "# Вывод результатов\n",
        "print(f\"Softmax Model - Accuracy: {softmax_accuracy:.4f}, Precision: {softmax_precision:.4f}, Recall: {softmax_recall:.4f}, F1 Score: {softmax_f1:.4f}\")\n",
        "print(f\"SVM Model - Accuracy: {svm_accuracy:.4f}, Precision: {svm_precision:.4f}, Recall: {svm_recall:.4f}, F1 Score: {svm_f1:.4f}\")"
      ],
      "metadata": {
        "deletable": false,
        "nbgrader": {
          "cell_type": "code",
          "checksum": "ea4f096280b3f8ecbcb99817022b06ab",
          "grade": false,
          "grade_id": "cell-6773ed1eb8bcf30c",
          "locked": false,
          "schema_version": 3,
          "solution": true,
          "task": false
        },
        "id": "iu-8KGpwm5SX",
        "trusted": true,
        "colab": {
          "base_uri": "https://localhost:8080/"
        },
        "outputId": "7284e372-001b-49a8-d339-47b0f2014980"
      },
      "outputs": [
        {
          "output_type": "stream",
          "name": "stdout",
          "text": [
            "Softmax Model - Accuracy: 0.9750, Precision: 0.9754, Recall: 0.9750, F1 Score: 0.9750\n",
            "SVM Model - Accuracy: 0.9861, Precision: 0.9865, Recall: 0.9861, F1 Score: 0.9861\n"
          ]
        }
      ],
      "execution_count": 50
    },
    {
      "cell_type": "code",
      "source": [
        "assert type(softmax_model) == LogisticRegression and softmax_model.max_iter == 1000\n",
        "assert type(svm_model) == SVC and svm_model.max_iter == 1000"
      ],
      "metadata": {
        "deletable": false,
        "editable": false,
        "nbgrader": {
          "cell_type": "code",
          "checksum": "8d75dcf60bfd26b40301ea2cce4c33c7",
          "grade": true,
          "grade_id": "cell-920798c03be6c966",
          "locked": true,
          "points": 1,
          "schema_version": 3,
          "solution": false,
          "task": false
        },
        "id": "oVvEOT6om5SX",
        "trusted": true
      },
      "outputs": [],
      "execution_count": 51
    },
    {
      "cell_type": "markdown",
      "source": [
        "**Задание 10 (1 балл)**\n",
        "\n",
        "Вычислите и сравните основные метрики классификации. Для вычисления `precision`, `recall` и `F1-score` воспользуйтесь готовыми метриками из библиотки `sklearn.metrics` (найдите названия нужных функций самостоятельно). Укажите аргумент `average='macro'` для вычисления метрик усреднённых по категориям. Сохраните значения метрик в переменные:\n",
        "\n",
        "* `softmax_accuracy_score`\n",
        "* `softmax_precision_score`\n",
        "* `softmax_recall_score`\n",
        "* `softmax_f1_score`\n",
        "\n",
        "\n",
        "* `svm_accuracy_score`\n",
        "* `svm_precision_score`\n",
        "* `svm_recall_score`\n",
        "* `svm_f1_score`\n",
        "\n"
      ],
      "metadata": {
        "deletable": false,
        "editable": false,
        "nbgrader": {
          "cell_type": "markdown",
          "checksum": "5d12ea9ff32d5d2c9faf0b3ee62cf1b6",
          "grade": false,
          "grade_id": "cell-1eea5bfe58e8bd90",
          "locked": true,
          "schema_version": 3,
          "solution": false,
          "task": false
        },
        "id": "dlemY_jxm5SX"
      }
    },
    {
      "cell_type": "code",
      "source": [
        "# НАЧАЛО ВАШЕГО РЕШЕНИЯ\n",
        "from sklearn.metrics import accuracy_score, precision_score, recall_score, f1_score\n",
        "\n",
        "# Метрики для модели LogisticRegression\n",
        "softmax_accuracy_score = accuracy_score(y_test, softmax_predictions)\n",
        "softmax_precision_score = precision_score(y_test, softmax_predictions, average='macro')\n",
        "softmax_recall_score = recall_score(y_test, softmax_predictions, average='macro')\n",
        "softmax_f1_score = f1_score(y_test, softmax_predictions, average='macro')\n",
        "\n",
        "# Метрики для модели SVC\n",
        "svm_accuracy_score = accuracy_score(y_test, svm_predictions)\n",
        "svm_precision_score = precision_score(y_test, svm_predictions, average='macro')\n",
        "svm_recall_score = recall_score(y_test, svm_predictions, average='macro')\n",
        "svm_f1_score = f1_score(y_test, svm_predictions, average='macro')\n",
        "\n",
        "# Вывод результатов\n",
        "print(f\"Softmax Model - Accuracy: {softmax_accuracy_score:.4f}, Precision: {softmax_precision_score:.4f}, Recall: {softmax_recall_score:.4f}, F1 Score: {softmax_f1_score:.4f}\")\n",
        "print(f\"SVM Model - Accuracy: {svm_accuracy_score:.4f}, Precision: {svm_precision_score:.4f}, Recall: {svm_recall_score:.4f}, F1 Score: {svm_f1_score:.4f}\")\n",
        "# КОНЕЦ ВАШЕГО РЕШЕНИЯ"
      ],
      "metadata": {
        "deletable": false,
        "nbgrader": {
          "cell_type": "code",
          "checksum": "e0619735849ec0626bd2f861da88052d",
          "grade": false,
          "grade_id": "cell-caefb1f3ef2e2ebd",
          "locked": false,
          "schema_version": 3,
          "solution": true,
          "task": false
        },
        "id": "12Qe16XFm5SY",
        "trusted": true,
        "colab": {
          "base_uri": "https://localhost:8080/"
        },
        "outputId": "8e610232-e3e2-45fa-e257-382fcf49e7e4"
      },
      "outputs": [
        {
          "output_type": "stream",
          "name": "stdout",
          "text": [
            "Softmax Model - Accuracy: 0.9750, Precision: 0.9756, Recall: 0.9756, F1 Score: 0.9754\n",
            "SVM Model - Accuracy: 0.9861, Precision: 0.9871, Recall: 0.9852, F1 Score: 0.9859\n"
          ]
        }
      ],
      "execution_count": 53
    },
    {
      "cell_type": "code",
      "source": [
        "# Качество по всем метрикам должно быть выше 95%\n",
        "print(f\"softmax_accuracy_score: {softmax_accuracy_score}\")\n",
        "print(f\"softmax_precision_score: {softmax_precision_score}\")\n",
        "print(f\"softmax_recall_score: {softmax_recall_score}\")\n",
        "print(f\"softmax_f1_score: {softmax_f1_score}\")\n",
        "\n",
        "print(f\"svm_accuracy_score: {svm_accuracy_score}\")\n",
        "print(f\"svm_precision_score: {svm_precision_score}\")\n",
        "print(f\"svm_recall_score: {svm_recall_score}\")\n",
        "print(f\"svm_f1_score: {svm_f1_score}\")"
      ],
      "metadata": {
        "id": "D5IaqiyHTlPV",
        "outputId": "ebdd3484-bced-4cc0-af82-2b02fa9070ac",
        "colab": {
          "base_uri": "https://localhost:8080/"
        },
        "trusted": true
      },
      "outputs": [
        {
          "output_type": "stream",
          "name": "stdout",
          "text": [
            "softmax_accuracy_score: 0.975\n",
            "softmax_precision_score: 0.9755891749496401\n",
            "softmax_recall_score: 0.975590939649223\n",
            "softmax_f1_score: 0.9753951883808829\n",
            "svm_accuracy_score: 0.9861111111111112\n",
            "svm_precision_score: 0.987139855110248\n",
            "svm_recall_score: 0.9852165435139574\n",
            "svm_f1_score: 0.9859103789515758\n"
          ]
        }
      ],
      "execution_count": 54
    },
    {
      "cell_type": "code",
      "source": [
        "assert softmax_accuracy_score > 0.95\n",
        "assert softmax_precision_score > 0.95\n",
        "assert softmax_recall_score > 0.95\n",
        "assert softmax_f1_score > 0.95\n",
        "\n",
        "assert svm_accuracy_score > 0.95\n",
        "assert svm_precision_score > 0.95\n",
        "assert svm_recall_score > 0.95\n",
        "assert svm_f1_score > 0.95"
      ],
      "metadata": {
        "id": "y-iGCxHmTm3J",
        "trusted": true
      },
      "outputs": [],
      "execution_count": 55
    },
    {
      "cell_type": "markdown",
      "source": [
        "# Поздравляем!\n",
        "В этом домашнем задании вы вручную реализовали алгоритм логистической регрессии с помощью градиентного спуска. Вы углубили навыки пользования библиотекой `sklearn` для обучения моделей, создания синтетических данных и вычисления метрик оценки качества моделей."
      ],
      "metadata": {
        "id": "HQgXk7ZSTsPH"
      }
    }
  ]
}