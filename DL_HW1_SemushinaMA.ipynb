{
  "nbformat": 4,
  "nbformat_minor": 0,
  "metadata": {
    "colab": {
      "provenance": [],
      "authorship_tag": "ABX9TyPelc1LC/TtgHaRQBquLSZV",
      "include_colab_link": true
    },
    "kernelspec": {
      "name": "python3",
      "display_name": "Python 3"
    },
    "language_info": {
      "name": "python"
    }
  },
  "cells": [
    {
      "cell_type": "markdown",
      "metadata": {
        "id": "view-in-github",
        "colab_type": "text"
      },
      "source": [
        "<a href=\"https://colab.research.google.com/github/marinasemushina/-_-3/blob/main/DL_HW1_SemushinaMA.ipynb\" target=\"_parent\"><img src=\"https://colab.research.google.com/assets/colab-badge.svg\" alt=\"Open In Colab\"/></a>"
      ]
    },
    {
      "cell_type": "code",
      "source": [
        "import pandas as pd\n",
        "import numpy as np\n",
        "from sklearn.model_selection import train_test_split\n",
        "from keras.models import Sequential\n",
        "from keras.layers import Conv2D, MaxPooling2D, Flatten, Dense\n",
        "from keras.utils import to_categorical"
      ],
      "metadata": {
        "id": "Uyv5QGUPWiqV"
      },
      "execution_count": 4,
      "outputs": []
    },
    {
      "cell_type": "code",
      "source": [
        "# Загрузка данных\n",
        "train_data = pd.read_csv('fmnist_train.csv')\n",
        "test_data = pd.read_csv('fmnist_test.csv')\n",
        "\n",
        "# Проверка структуры данных\n",
        "print(\"Структура обучающего набора:\")\n",
        "print(train_data.head())\n",
        "\n",
        "# Удаление NaN значений\n",
        "train_data_cleaned = train_data.dropna()\n",
        "\n",
        "# Подготовка данных\n",
        "X = train_data_cleaned.drop(columns=['label', 'Id']).values.astype('float32') / 255.0  # Нормализация\n",
        "y = train_data_cleaned['label'].values  # Метки классов\n",
        "\n",
        "# One-hot кодирование меток\n",
        "y = to_categorical(y, num_classes=10)\n",
        "\n",
        "# Разделение данных на обучающую и валидационную выборки\n",
        "X_train, X_val, y_train, y_val = train_test_split(X, y, test_size=0.2, random_state=42)\n",
        "\n",
        "# Проверка формы данных\n",
        "print(\"Форма обучающего набора:\", X_train.shape)\n",
        "print(\"Форма валидационного набора:\", X_val.shape)"
      ],
      "metadata": {
        "colab": {
          "base_uri": "https://localhost:8080/"
        },
        "id": "5vwse2oiXDdw",
        "outputId": "7719903e-1f84-47a7-9fb7-d7fc077c9164"
      },
      "execution_count": 13,
      "outputs": [
        {
          "output_type": "stream",
          "name": "stdout",
          "text": [
            "Структура обучающего набора:\n",
            "   label  pixel1  pixel2  pixel3  pixel4  pixel5  pixel6  pixel7  pixel8  \\\n",
            "0      2       0       0       0       0       0       0       0       0   \n",
            "1      9       0       0       0       0       0       0       0       0   \n",
            "2      6       0       0       0       0       0       0       0       5   \n",
            "3      0       0       0       0       1       2       0       0       0   \n",
            "4      3       0       0       0       0       0       0       0       0   \n",
            "\n",
            "   pixel9  ...  pixel776  pixel777  pixel778  pixel779  pixel780  pixel781  \\\n",
            "0       0  ...       0.0       0.0       0.0       0.0       0.0       0.0   \n",
            "1       0  ...       0.0       0.0       0.0       0.0       0.0       0.0   \n",
            "2       0  ...       0.0       0.0      30.0      43.0       0.0       0.0   \n",
            "3       0  ...       0.0       0.0       0.0       0.0       1.0       0.0   \n",
            "4       0  ...       0.0       0.0       0.0       0.0       0.0       0.0   \n",
            "\n",
            "   pixel782  pixel783  pixel784  Id  \n",
            "0       0.0       0.0       0.0   0  \n",
            "1       0.0       0.0       0.0   1  \n",
            "2       0.0       0.0       0.0   2  \n",
            "3       0.0       0.0       0.0   3  \n",
            "4       0.0       0.0       0.0   4  \n",
            "\n",
            "[5 rows x 786 columns]\n",
            "Форма обучающего набора: (13631, 784)\n",
            "Форма валидационного набора: (3408, 784)\n"
          ]
        }
      ]
    },
    {
      "cell_type": "code",
      "source": [
        "# Изменение формы данных для CNN\n",
        "X_train = X_train.reshape(-1, 28, 28, 1)\n",
        "X_val = X_val.reshape(-1, 28, 28, 1)\n",
        "\n",
        "# Подготовка тестового набора\n",
        "X_test = test_data.drop(columns=['Id']).values.astype('float32') / 255.0\n",
        "X_test = X_test.reshape(-1, 28, 28, 1)\n",
        "\n",
        "# Построение модели CNN\n",
        "model = Sequential()\n",
        "model.add(Conv2D(32, kernel_size=(3, 3), activation='relu', input_shape=(28, 28, 1)))\n",
        "model.add(MaxPooling2D(pool_size=(2, 2)))\n",
        "model.add(Conv2D(64, kernel_size=(3, 3), activation='relu'))\n",
        "model.add(MaxPooling2D(pool_size=(2, 2)))\n",
        "model.add(Flatten())\n",
        "model.add(Dense(128, activation='relu'))\n",
        "model.add(Dense(10, activation='softmax'))\n"
      ],
      "metadata": {
        "colab": {
          "base_uri": "https://localhost:8080/"
        },
        "id": "m2HJZBt8YBuB",
        "outputId": "99e4b1e3-5ae7-4cc9-8aa5-639d5e6241b8"
      },
      "execution_count": 14,
      "outputs": [
        {
          "output_type": "stream",
          "name": "stderr",
          "text": [
            "/usr/local/lib/python3.11/dist-packages/keras/src/layers/convolutional/base_conv.py:107: UserWarning: Do not pass an `input_shape`/`input_dim` argument to a layer. When using Sequential models, prefer using an `Input(shape)` object as the first layer in the model instead.\n",
            "  super().__init__(activity_regularizer=activity_regularizer, **kwargs)\n"
          ]
        }
      ]
    },
    {
      "cell_type": "code",
      "source": [
        "# Компиляция модели\n",
        "model.compile(loss='categorical_crossentropy', optimizer='adam', metrics=['accuracy'])\n",
        "\n",
        "# Обучение модели\n",
        "model.fit(X_train, y_train, validation_data=(X_val, y_val), epochs=10, batch_size=128)"
      ],
      "metadata": {
        "colab": {
          "base_uri": "https://localhost:8080/"
        },
        "id": "NZwoVwr1YB6w",
        "outputId": "0877f8f5-b0ed-4b8f-e61d-9374fb7c4297"
      },
      "execution_count": 15,
      "outputs": [
        {
          "output_type": "stream",
          "name": "stdout",
          "text": [
            "Epoch 1/10\n",
            "\u001b[1m107/107\u001b[0m \u001b[32m━━━━━━━━━━━━━━━━━━━━\u001b[0m\u001b[37m\u001b[0m \u001b[1m14s\u001b[0m 108ms/step - accuracy: 0.5522 - loss: 1.2848 - val_accuracy: 0.7817 - val_loss: 0.5852\n",
            "Epoch 2/10\n",
            "\u001b[1m107/107\u001b[0m \u001b[32m━━━━━━━━━━━━━━━━━━━━\u001b[0m\u001b[37m\u001b[0m \u001b[1m20s\u001b[0m 107ms/step - accuracy: 0.7984 - loss: 0.5352 - val_accuracy: 0.8283 - val_loss: 0.4781\n",
            "Epoch 3/10\n",
            "\u001b[1m107/107\u001b[0m \u001b[32m━━━━━━━━━━━━━━━━━━━━\u001b[0m\u001b[37m\u001b[0m \u001b[1m20s\u001b[0m 102ms/step - accuracy: 0.8360 - loss: 0.4423 - val_accuracy: 0.8383 - val_loss: 0.4474\n",
            "Epoch 4/10\n",
            "\u001b[1m107/107\u001b[0m \u001b[32m━━━━━━━━━━━━━━━━━━━━\u001b[0m\u001b[37m\u001b[0m \u001b[1m20s\u001b[0m 102ms/step - accuracy: 0.8557 - loss: 0.3941 - val_accuracy: 0.8427 - val_loss: 0.4299\n",
            "Epoch 5/10\n",
            "\u001b[1m107/107\u001b[0m \u001b[32m━━━━━━━━━━━━━━━━━━━━\u001b[0m\u001b[37m\u001b[0m \u001b[1m20s\u001b[0m 95ms/step - accuracy: 0.8667 - loss: 0.3597 - val_accuracy: 0.8574 - val_loss: 0.4013\n",
            "Epoch 6/10\n",
            "\u001b[1m107/107\u001b[0m \u001b[32m━━━━━━━━━━━━━━━━━━━━\u001b[0m\u001b[37m\u001b[0m \u001b[1m21s\u001b[0m 102ms/step - accuracy: 0.8724 - loss: 0.3401 - val_accuracy: 0.8694 - val_loss: 0.3693\n",
            "Epoch 7/10\n",
            "\u001b[1m107/107\u001b[0m \u001b[32m━━━━━━━━━━━━━━━━━━━━\u001b[0m\u001b[37m\u001b[0m \u001b[1m11s\u001b[0m 104ms/step - accuracy: 0.8808 - loss: 0.3244 - val_accuracy: 0.8762 - val_loss: 0.3468\n",
            "Epoch 8/10\n",
            "\u001b[1m107/107\u001b[0m \u001b[32m━━━━━━━━━━━━━━━━━━━━\u001b[0m\u001b[37m\u001b[0m \u001b[1m21s\u001b[0m 104ms/step - accuracy: 0.8867 - loss: 0.3089 - val_accuracy: 0.8606 - val_loss: 0.3745\n",
            "Epoch 9/10\n",
            "\u001b[1m107/107\u001b[0m \u001b[32m━━━━━━━━━━━━━━━━━━━━\u001b[0m\u001b[37m\u001b[0m \u001b[1m20s\u001b[0m 100ms/step - accuracy: 0.8890 - loss: 0.3017 - val_accuracy: 0.8776 - val_loss: 0.3419\n",
            "Epoch 10/10\n",
            "\u001b[1m107/107\u001b[0m \u001b[32m━━━━━━━━━━━━━━━━━━━━\u001b[0m\u001b[37m\u001b[0m \u001b[1m22s\u001b[0m 111ms/step - accuracy: 0.8974 - loss: 0.2788 - val_accuracy: 0.8815 - val_loss: 0.3353\n"
          ]
        },
        {
          "output_type": "execute_result",
          "data": {
            "text/plain": [
              "<keras.src.callbacks.history.History at 0x78dc1fab1f10>"
            ]
          },
          "metadata": {},
          "execution_count": 15
        }
      ]
    },
    {
      "cell_type": "code",
      "source": [
        "# Предсказание на тестовом наборе\n",
        "predictions = model.predict(X_test)\n",
        "predicted_classes = np.argmax(predictions, axis=1)"
      ],
      "metadata": {
        "colab": {
          "base_uri": "https://localhost:8080/"
        },
        "id": "PQAL9hXCYB9b",
        "outputId": "9f3b6762-9f96-471e-8598-4aa7a48b04e4"
      },
      "execution_count": 16,
      "outputs": [
        {
          "output_type": "stream",
          "name": "stdout",
          "text": [
            "\u001b[1m313/313\u001b[0m \u001b[32m━━━━━━━━━━━━━━━━━━━━\u001b[0m\u001b[37m\u001b[0m \u001b[1m2s\u001b[0m 7ms/step\n"
          ]
        }
      ]
    },
    {
      "cell_type": "code",
      "source": [
        "# Подготовка файла для отправки\n",
        "submission = pd.DataFrame({'id': test_data['Id'], 'label': predicted_classes})\n",
        "submission.to_csv('submission.csv', index=False)"
      ],
      "metadata": {
        "id": "XE_JA5DXYCAM"
      },
      "execution_count": 17,
      "outputs": []
    }
  ]
}