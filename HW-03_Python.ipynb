{
 "cells": [
  {
   "cell_type": "code",
   "execution_count": 5,
   "id": "21e16322-a4e0-405e-8581-366ab15f78d4",
   "metadata": {},
   "outputs": [
    {
     "name": "stdin",
     "output_type": "stream",
     "text": [
      "Введите последовательность чисел через пробел:  1 6 3 54 23\n",
      "Введите число:  14\n"
     ]
    },
    {
     "name": "stdout",
     "output_type": "stream",
     "text": [
      "Позиция элемента, который меньше 14.0 и следующий за ним больше или равен: 3.\n",
      "Элемент меньше: 6.0, элемент больше или равен: 23.0.\n"
     ]
    }
   ],
   "source": [
    "def binary_search(sorted_list, target):\n",
    "    \"\"\"Функция для выполнения двоичного поиска.\"\"\"\n",
    "    low = 0\n",
    "    high = len(sorted_list) - 1\n",
    "\n",
    "    while low <= high:\n",
    "        mid = (low + high) // 2\n",
    "        if sorted_list[mid] < target:\n",
    "            low = mid + 1\n",
    "        else:\n",
    "            high = mid - 1\n",
    "\n",
    "    return low  # Возвращаем индекс позиции для вставки\n",
    "\n",
    "def sort_list(input_list):\n",
    "    \"\"\"Функция для сортировки списка.\"\"\"\n",
    "    return sorted(input_list)\n",
    "\n",
    "def main():\n",
    "    # Ввод последовательности чисел\n",
    "    input_sequence = input(\"Введите последовательность чисел через пробел: \")\n",
    "    \n",
    "    # Преобразование введённой последовательности в список чисел\n",
    "    try:\n",
    "        numbers = list(map(float, input_sequence.split()))\n",
    "    except ValueError:\n",
    "        print(\"Ошибка: Вводимые данные должны быть числами.\")\n",
    "        return\n",
    "\n",
    "    # Запрос числа у пользователя\n",
    "    try:\n",
    "        user_number = float(input(\"Введите число: \"))\n",
    "    except ValueError:\n",
    "        print(\"Ошибка: Вводимое значение должно быть числом.\")\n",
    "        return\n",
    "\n",
    "    # Сортировка списка\n",
    "    sorted_numbers = sort_list(numbers)\n",
    "\n",
    "    # Поиск позиции\n",
    "    position = binary_search(sorted_numbers, user_number)\n",
    "\n",
    "    # Проверка и вывод результата\n",
    "    if position == 0:\n",
    "        print(f\"Все элементы в списке больше или равны {user_number}.\")\n",
    "    elif position == len(sorted_numbers):\n",
    "        print(f\"Все элементы в списке меньше {user_number}.\")\n",
    "    else:\n",
    "        print(f\"Позиция элемента, который меньше {user_number} и следующий за ним больше или равен: {position}.\")\n",
    "        print(f\"Элемент меньше: {sorted_numbers[position - 1]}, элемент больше или равен: {sorted_numbers[position]}.\")\n",
    "\n",
    "if __name__ == \"__main__\":\n",
    "    main()"
   ]
  },
  {
   "cell_type": "code",
   "execution_count": null,
   "id": "bdf6867c-25a1-43bb-9b9a-2ebc2c0b086a",
   "metadata": {},
   "outputs": [],
   "source": []
  }
 ],
 "metadata": {
  "kernelspec": {
   "display_name": "Python 3 (ipykernel)",
   "language": "python",
   "name": "python3"
  },
  "language_info": {
   "codemirror_mode": {
    "name": "ipython",
    "version": 3
   },
   "file_extension": ".py",
   "mimetype": "text/x-python",
   "name": "python",
   "nbconvert_exporter": "python",
   "pygments_lexer": "ipython3",
   "version": "3.11.5"
  }
 },
 "nbformat": 4,
 "nbformat_minor": 5
}
