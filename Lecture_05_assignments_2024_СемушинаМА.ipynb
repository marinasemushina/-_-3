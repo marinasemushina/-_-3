{
  "nbformat": 4,
  "nbformat_minor": 0,
  "metadata": {
    "colab": {
      "provenance": [],
      "include_colab_link": true
    },
    "kernelspec": {
      "name": "python3",
      "display_name": "Python 3"
    },
    "language_info": {
      "name": "python"
    }
  },
  "cells": [
    {
      "cell_type": "markdown",
      "metadata": {
        "id": "view-in-github",
        "colab_type": "text"
      },
      "source": [
        "<a href=\"https://colab.research.google.com/github/marinasemushina/-_-3/blob/main/Lecture_05_assignments_2024_%D0%A1%D0%B5%D0%BC%D1%83%D1%88%D0%B8%D0%BD%D0%B0%D0%9C%D0%90.ipynb\" target=\"_parent\"><img src=\"https://colab.research.google.com/assets/colab-badge.svg\" alt=\"Open In Colab\"/></a>"
      ]
    },
    {
      "cell_type": "markdown",
      "source": [
        "# **Важно!**\n",
        "\n",
        "Домашнее задание состоит из нескольких задач, которые вам нужно решить.\n",
        "*   Баллы выставляются по принципу выполнено/невыполнено.\n",
        "*   За каждую выполненую задачу вы получаете баллы (количество баллов за задание указано в скобках).\n",
        "\n",
        "**Инструкция:** выполните задания в этом же ноутбуке (места под решения **каждой** задачи обозначаются как **#НАЧАЛО ВАШЕГО РЕШЕНИЯ** и **#КОНЕЦ ВАШЕГО РЕШЕНИЯ**).\n",
        "\n",
        "**Как отправить задание на проверку:** вам необходимо сохранить решение в данном блокноте и отправить итоговый **файл .IPYNB** на учебной платформе в **стандартную форму сдачи домашнего задания.**\n",
        "\n",
        "**Сроки проверки:** преподаватель проверит домашнее задание в течение недели после дедлайна и даст вам обратную связь.\n",
        "\n",
        "# **Перед выполнением задания**\n",
        "\n",
        "1. **Перезапустите ядро (restart the kernel):** в меню выбрать **Ядро (Kernel)**\n",
        "→ **Перезапустить (Restart).**\n",
        "2. **Выполните** **все ячейки (run all cells)**: в меню выбрать **Ячейка (Cell)**\n",
        "→ **Запустить все (Run All)**.\n",
        "\n",
        "После ячеек с заданием следуют ячейки с проверкой **с помощью assert**: если в коде есть ошибки, assert выведет уведомление об ошибке; если в коде нет ошибок, assert отработает без вывода дополнительной информации."
      ],
      "metadata": {
        "id": "9mzfRWZE7cQd"
      }
    },
    {
      "cell_type": "markdown",
      "source": [
        "# Домашнее задание 5. Деревья решений. Композиции деревьев. Случайный лес\n",
        "\n",
        "**Цели:**\n",
        "\n",
        "*   Научиться строить дерево решений вручную с помощью рекурсии и применить его к данным Iris.\n",
        "*   Добавить регуляризацию.\n",
        "*   Применить на практике такие методы, как деревья решений, композиции деревьев, случайный лес.\n",
        "\n",
        "# Условия домашней работы\n",
        "\n",
        "**Решающее дерево** — это алгоритм машинного обучения, который используется для решения задач классификации и регрессии. Оно представляет собой древовидную структуру, где каждый узел представляет тест на одном из признаков, а каждая ветвь — возможный результат этого теста. Листья дерева представляют собой конечный результат — прогноз для новых данных.\n",
        "\n",
        "В процессе построения решающего дерева алгоритм выбирает тест, который лучше всего разделяет данные на различные классы или предсказывает значение целевой переменной. Затем данные разбиваются на две или более частей в соответствии с результатами теста. Этот процесс повторяется для каждой полученной части, пока не будет достигнут критерий останова."
      ],
      "metadata": {
        "id": "4pR8uLgW7qe-"
      }
    },
    {
      "cell_type": "code",
      "source": [
        "# Запустите эту ячейку для первоначальной настройки\n",
        "import numpy as np\n",
        "import pandas as pd\n",
        "import matplotlib.pyplot as plt\n",
        "\n",
        "plt.style.use('fivethirtyeight')\n",
        "plt.rc('lines', linewidth=2)"
      ],
      "metadata": {
        "id": "R-5jcaGr7b6N"
      },
      "execution_count": 1,
      "outputs": []
    },
    {
      "cell_type": "markdown",
      "source": [
        "## Часть 1. Реализация деревья решений для категориальных данных через прирост информации с энтропией\n",
        "\n",
        "**Задание 1 (1 балл)**\n",
        "\n",
        "Дополните функцию по расчету энтропии `compute_entropy`. Функция должна принимать вектор y с дискретными значениями (list) и вычислять значение энтропии для данного вектора. Для подсчета уникальных значений в векторе значений удобно использовать функцию `np.unique` с аргументом `return_counts=True`. Функция должна возвращать нулевое значение в случае пустого списка или списка с единственным уникальным значением."
      ],
      "metadata": {
        "id": "tZ1H2WLM9J3H"
      }
    },
    {
      "cell_type": "code",
      "source": [
        "def compute_entropy(y):\n",
        "    if len(y)==0:\n",
        "        return 0\n",
        "    # НАЧАЛО ВАШЕГО РЕШЕНИЯ\n",
        "    # Получаем уникальные значения и их количество\n",
        "    unique, counts = np.unique(y, return_counts=True)\n",
        "\n",
        "    # Вычисляем вероятности\n",
        "    probabilities = counts / counts.sum()\n",
        "\n",
        "    # Проверяем на случай, если есть только одно уникальное значение\n",
        "    if len(unique) == 1:\n",
        "        return 0\n",
        "\n",
        "    # Вычисляем энтропию\n",
        "    entropy = -np.sum(probabilities * np.log2(probabilities))\n",
        "    # КОНЕЦ ВАШЕГО РЕШЕНИЯ\n",
        "    return entropy"
      ],
      "metadata": {
        "id": "PQDcKOwx9Z_j"
      },
      "execution_count": 2,
      "outputs": []
    },
    {
      "cell_type": "code",
      "source": [
        "# Пустой вектор:\n",
        "assert compute_entropy(np.array([])) == 0.\n",
        "# Вектор с одним элементом:\n",
        "assert compute_entropy(np.array([1])) == 0.\n",
        "# Вектор с двумя одинаковыми элементами:\n",
        "assert compute_entropy(np.array([2,2])) == 0.\n",
        "# Вектор с двумя разными элементами:\n",
        "assert compute_entropy(np.array([1,2])) == 1.\n",
        "# Вектор с тремя одинаковыми элементами:\n",
        "assert compute_entropy(np.array([0,0,0])) == 0.\n",
        "# Вектор с тремя элементами, два из которых одинаковые:\n",
        "assert np.isclose(compute_entropy(np.array([0,0,1])), 0.92, atol=0.01)\n",
        "# Вектор с тремя элементами, все элементы разные:\n",
        "assert np.isclose(compute_entropy(np.array([1,2,3])), 1.58, atol=0.01)\n",
        "# Вектор с четырьмя одинаковыми элементами:\n",
        "assert compute_entropy(np.array([7,7,7,7])) == 0.\n",
        "# Вектор с четырьмя элементами, два из которых одинаковые:\n",
        "assert compute_entropy(np.array([5,5,2,1])) == 1.5\n",
        "# Вектор с пятью элементами, все элементы разные:\n",
        "assert np.isclose(compute_entropy(np.array([5,4,3,2,1])), 2.32, atol=0.01)"
      ],
      "metadata": {
        "id": "yefXge8P_9qN"
      },
      "execution_count": 3,
      "outputs": []
    },
    {
      "cell_type": "markdown",
      "source": [
        "**Задание 2 (1 балл)**\n",
        "\n",
        "\n",
        "Дополните функцию для прироста информации для задачи классификации. Функция должна принимать три параметра: набор целевых значений `y` и списки левых и правых индексов `left`, `right`.\n",
        "\n",
        "Для начала вам понадобится рассчитать значение энтропии для данных целевых значений `y`; запишите ее значение в переменную `total_entropy`. Затем рассчитайте сумму взвешенных критериев подгрупп `weighted_entropy`. Изначально она задана равной нулю, затем прибавляем взвешенную энтропию для каждой подгруппы.\n",
        "\n",
        "На последнем этапе рассчитайте разницу между полным значением критерия `total_entropy` и суммой взвешенных критериев подгрупп `weighted_entropy`, `gain`."
      ],
      "metadata": {
        "id": "5YyJ8_9rA265"
      }
    },
    {
      "cell_type": "code",
      "source": [
        "def information_gain_entropy(y, left, right):\n",
        "    # НАЧАЛО ВАШЕГО РЕШЕНИЯ\n",
        "     # Преобразуем y в массив NumPy для удобства индексации\n",
        "    y = np.array(y)\n",
        "\n",
        "    # Общая энтропия для целевых значений\n",
        "    total_entropy = compute_entropy(y)\n",
        "\n",
        "    # Сумма взвешенных критериев подгрупп\n",
        "    weighted_entropy = 0.0\n",
        "\n",
        "    # Рассчитываем взвешенную энтропию для левой подгруппы\n",
        "    if len(left) > 0:\n",
        "        left_entropy = compute_entropy(y[left])\n",
        "        weighted_entropy += (len(left) / len(y)) * left_entropy\n",
        "\n",
        "    # Рассчитываем взвешенную энтропию для правой подгруппы\n",
        "    if len(right) > 0:\n",
        "        right_entropy = compute_entropy(y[right])\n",
        "        weighted_entropy += (len(right) / len(y)) * right_entropy\n",
        "\n",
        "    # Прирост информации\n",
        "    gain = total_entropy - weighted_entropy\n",
        "    # КОНЕЦ ВАШЕГО РЕШЕНИЯ\n",
        "    return gain"
      ],
      "metadata": {
        "id": "Jrre5eg5AQJg"
      },
      "execution_count": 4,
      "outputs": []
    },
    {
      "cell_type": "code",
      "source": [
        "# ПРОВЕРКА\n",
        "y, left, right = [0, 0, 1, 1, 1, 1], [0, 0], [1, 1, 1, 1]\n",
        "assert np.isclose(information_gain_entropy(y, left, right), 0.92, atol=0.01)\n",
        "\n",
        "y, left, right = [0, 0, 0, 1, 1, 1], [0, 0, 0], [1, 1, 1]\n",
        "assert information_gain_entropy(y, left, right) == 1.0\n",
        "\n",
        "y, left, right = [0, 1, 0, 1], [0, 1], [0, 1]\n",
        "assert information_gain_entropy(y, left, right) == 0.0\n",
        "\n",
        "y, left, right = [0, 1, 1, 0, 0], [0], [1, 1, 0, 0]\n",
        "assert np.isclose(information_gain_entropy(y, left, right), 0.17, atol=0.01)"
      ],
      "metadata": {
        "id": "QhBo0p0q1ra2"
      },
      "execution_count": 5,
      "outputs": []
    },
    {
      "cell_type": "markdown",
      "source": [
        "**Задание 3 (1 балл)**\n",
        "\n",
        "Дополните функцию расчета наилучшего разбиения узла `get_best_split`. Эта функция вызывается для каждого узла дерева с целью оптимальным образом разбить данные `X` и `y`, дошедшие до данного узла. Для этого мы должны перебрать признаки в `X` и все возможные пороговые значения для каждого признака и выбрать ту комбинацию, которая ведет к максимальному приросту информации.\n",
        "\n",
        "Например, если `X = [[1, 4], [6.5, 7], [9, 4]]`, мы имеем дело с двумя признаками. Первый признак принимает значения `[1, 6.5, 9]`. Мы будем рассматривать пороговые значения 1 и 6.5, рассчитывая  приросты разбиений `[[1], [6.5, 9]]` и `[[1, 6.5], [9]]`. Второй признак принимает значения 4 и 7 и имеет единственный возможный порог 4 и разбиение `[[4, 4], [7]]`.\n",
        "\n",
        "Допустим, что `y = [0, 1, 0]`. Для трех приведенных выше вариантов разбиений по признаку и пороговому значению приросты окажутся равны 0.25, 0.25 и 0.92. Следовательно, в этом узле дерево будет разбивать данные на подгруппы по второму признаку с пороговым значением 4."
      ],
      "metadata": {
        "id": "-dHMDLcMf8l0"
      }
    },
    {
      "cell_type": "code",
      "source": [
        "def get_best_split(X, y):\n",
        "\n",
        "    n_samples, n_features = X.shape\n",
        "    best_gain = 0\n",
        "    best_feature = None\n",
        "    best_threshold = None\n",
        "\n",
        "    for feature_idx in range(n_features):\n",
        "        feature_values = X[:, feature_idx]\n",
        "        # Находим уникальные значения признака.\n",
        "        thresholds = np.unique(feature_values)\n",
        "        # Итерируемся по всем возможным пороговым значениям признака.\n",
        "        for threshold in thresholds:\n",
        "            # Определяем индексы объектов, которые относятся к левому поддереву и правому поддереву.\n",
        "            # Рассчитываем прирост информации.\n",
        "            # НАЧАЛО ВАШЕГО РЕШЕНИЯ\n",
        "            # Определяем индексы объектов для левого и правого поддерева\n",
        "            left_indices = np.where(feature_values <= threshold)[0]\n",
        "            right_indices = np.where(feature_values > threshold)[0]\n",
        "\n",
        "            # Рассчитываем прирост информации\n",
        "            gain = information_gain_entropy(y, left_indices, right_indices)\n",
        "\n",
        "            # Проверяем, является ли этот прирост информации наилучшим\n",
        "            if gain > best_gain:\n",
        "                best_gain = gain\n",
        "                best_feature = feature_idx\n",
        "                best_threshold = threshold\n",
        "            # КОНЕЦ ВАШЕГО РЕШЕНИЯ\n",
        "\n",
        "            if gain > best_gain:\n",
        "                best_gain = gain\n",
        "                best_feature = feature_idx\n",
        "                best_threshold = threshold\n",
        "\n",
        "    return best_gain, best_feature, best_threshold"
      ],
      "metadata": {
        "id": "ZzrwTxPVANcU"
      },
      "execution_count": 6,
      "outputs": []
    },
    {
      "cell_type": "code",
      "source": [
        "# ПРОВЕРКА\n",
        "X = np.array([[2, 3], [1, 4], [2, 6], [3, 3], [2, 5], [1, 6]])\n",
        "y = np.array([0, 0, 1, 1, 1, 0])\n",
        "gain, feature, threshold = get_best_split(X, y)\n",
        "assert np.isclose(gain, 0.46, atol=0.01) and feature == 0 and threshold == 1\n",
        "\n",
        "X = np.array([[1, 1], [1, 1], [1, 1], [1, 1]])\n",
        "y = np.array([0, 0, 0, 0])\n",
        "gain, feature, threshold = get_best_split(X, y)\n",
        "assert gain == 0 and feature is None and threshold is None\n",
        "\n",
        "X = np.array([[2, 3], [1, 4], [3, 6], [4, 3], [2, 5], [3, 7]])\n",
        "y = np.array([0, 0, 1, 1, 1, 1])\n",
        "gain, feature, threshold = get_best_split(X, y)\n",
        "assert np.isclose(gain, 0.46, atol=0.01) and feature == 0 and threshold == 2\n",
        "\n",
        "X = np.array([[1, 2], [2, 3], [3, 3], [4, 4], [2, 5], [3, 6]])\n",
        "y = np.array([0, 0, 1, 1, 0, 1])\n",
        "gain, feature, threshold = get_best_split(X, y)\n",
        "assert gain == 1 and feature == 0 and threshold == 2\n",
        "\n",
        "X = np.array([[1, 2], [2, 3], [3, 3], [4, 4], [2, 5], [3, 6]])\n",
        "y = np.array([0, 0, 1, 1, 0, 1])\n",
        "gain, feature, threshold = get_best_split(X, y)\n",
        "assert gain == 1 and feature == 0 and threshold == 2"
      ],
      "metadata": {
        "id": "fZrZkUzj1ssT"
      },
      "execution_count": 7,
      "outputs": []
    },
    {
      "cell_type": "markdown",
      "source": [
        "**Задание 4 (1 балл)**\n",
        "\n",
        "Постройте дерево решений, пользуясь ранее созданными функциями и данным кодом.\n",
        "\n",
        "В этой задаче мы будем пользоваться рекурсией, то есть вызовом функцией самой себя. Для задач рекурсии необходимо определить основное действие, которое мы хотим повторять, и базовые случаи, когда рекурсия должна прекратиться. Здесь базовым случаем станет ситуация, когда все значения целевой переменной в разбиении равны. Это условия превращает узел в лист, который и выдает конечное значение `y`."
      ],
      "metadata": {
        "id": "VfBDMFd2Eica"
      }
    },
    {
      "cell_type": "code",
      "source": [
        "def decision_tree_entropy(X, y):\n",
        "    # Базовый случай\n",
        "    if len(np.unique(y)) == 1:\n",
        "        return {\"label\": y[0]}\n",
        "\n",
        "    # Находим наиболее благоприятное разбиение\n",
        "    # НАЧАЛО ВАШЕГО РЕШЕНИЯ\n",
        "    gain, feature, threshold = get_best_split(X, y)\n",
        "    # КОНЕЦ ВАШЕГО РЕШЕНИЯ\n",
        "\n",
        "    # В случае нулевого прироста возвращаем наиболее представленный класс\n",
        "    if gain <= 0:\n",
        "        return {\"label\": np.bincount(y).argmax()}\n",
        "\n",
        "    # Разделяем данные в соответствии со значением threshold\n",
        "    # НАЧАЛО ВАШЕГО РЕШЕНИЯ\n",
        "    left_indices = np.where(X[:, feature] <= threshold)[0]\n",
        "    right_indices = np.where(X[:, feature] > threshold)[0]\n",
        "    # КОНЕЦ ВАШЕГО РЕШЕНИЯ\n",
        "\n",
        "    # Строим дерево рекурсивно (функция вызывает саму себя на \"левых\" и \"правых\" данных)\n",
        "    # НАЧАЛО ВАШЕГО РЕШЕНИЯ\n",
        "    left_tree = decision_tree_entropy(X[left_indices], y[left_indices])\n",
        "    right_tree = decision_tree_entropy(X[right_indices], y[right_indices])\n",
        "    # КОНЕЦ ВАШЕГО РЕШЕНИЯ\n",
        "\n",
        "    # Возвращаем текущий узел\n",
        "    return {\n",
        "        \"feature\": feature,\n",
        "        \"threshold\": threshold,\n",
        "        \"left\": left_tree,\n",
        "        \"right\": right_tree,\n",
        "    }"
      ],
      "metadata": {
        "id": "joOxOBHTDTZ4"
      },
      "execution_count": 8,
      "outputs": []
    },
    {
      "cell_type": "markdown",
      "source": [
        "Обучим наше дерево на данных Iris."
      ],
      "metadata": {
        "id": "UANQe3_b17kB"
      }
    },
    {
      "cell_type": "code",
      "source": [
        "from sklearn.datasets import load_iris\n",
        "from sklearn.model_selection import train_test_split\n",
        "\n",
        "# Загрузка данных iris\n",
        "data = load_iris()\n",
        "X = data.data  # Признаки\n",
        "y = data.target  # Целевая переменная\n",
        "\n",
        "# Разделение на обучающую и тестовую выборки\n",
        "X_train, X_test, y_train, y_test = train_test_split(X, y, test_size=0.2, random_state=0)\n",
        "\n",
        "# Строим дерево\n",
        "tree = decision_tree_entropy(X_train, y_train)"
      ],
      "metadata": {
        "id": "JpBUhPP91-pZ"
      },
      "execution_count": 9,
      "outputs": []
    },
    {
      "cell_type": "code",
      "source": [
        "tree"
      ],
      "metadata": {
        "colab": {
          "base_uri": "https://localhost:8080/"
        },
        "id": "t5-NZRe9_o8Q",
        "outputId": "570d1f54-6bb3-4ec1-a4ee-ec840762e880"
      },
      "execution_count": 10,
      "outputs": [
        {
          "output_type": "execute_result",
          "data": {
            "text/plain": [
              "{'feature': 2,\n",
              " 'threshold': 1.7,\n",
              " 'left': {'label': 0},\n",
              " 'right': {'feature': 3,\n",
              "  'threshold': 1.7,\n",
              "  'left': {'feature': 2,\n",
              "   'threshold': 4.9,\n",
              "   'left': {'feature': 3,\n",
              "    'threshold': 1.6,\n",
              "    'left': {'label': 1},\n",
              "    'right': {'label': 2}},\n",
              "   'right': {'feature': 3,\n",
              "    'threshold': 1.5,\n",
              "    'left': {'label': 2},\n",
              "    'right': {'feature': 0,\n",
              "     'threshold': 6.7,\n",
              "     'left': {'label': 1},\n",
              "     'right': {'label': 2}}}},\n",
              "  'right': {'feature': 2,\n",
              "   'threshold': 4.8,\n",
              "   'left': {'feature': 0,\n",
              "    'threshold': 5.9,\n",
              "    'left': {'label': 1},\n",
              "    'right': {'label': 2}},\n",
              "   'right': {'label': 2}}}}"
            ]
          },
          "metadata": {},
          "execution_count": 10
        }
      ]
    },
    {
      "cell_type": "code",
      "source": [
        "# ПРОВЕРКА\n",
        "assert tree['feature'] == 2\n",
        "assert tree['right']['left']['left']['threshold'] == 1.6"
      ],
      "metadata": {
        "id": "9hmsiual97qZ"
      },
      "execution_count": 11,
      "outputs": []
    },
    {
      "cell_type": "markdown",
      "source": [
        "После того как дерево построено с помощью обучающей выборки, мы можем воспользоваться им для предсказания значений из тестовой выборки. Для этого нам нужна предсказательная функция, которая пропустит тестовые данные через дерево. Ее код дан ниже. Обратите внимание, что функция `prediction` тоже рекурсивна."
      ],
      "metadata": {
        "id": "wYatsNRL0QP_"
      }
    },
    {
      "cell_type": "code",
      "source": [
        "def prediction(tree, X):\n",
        "    # Проверяем, является ли X одномерным массивом (одна запись)\n",
        "    if X.ndim == 1:\n",
        "        # Если узел - лист, возвращаем его значение\n",
        "        if \"label\" in tree:\n",
        "            return tree[\"label\"]\n",
        "\n",
        "        # В противном случае, рекурсивно спускаемся по дереву\n",
        "        feature = tree[\"feature\"]\n",
        "        threshold = tree[\"threshold\"]\n",
        "\n",
        "        # Если значение признака меньше или равно порогу, идем в левое поддерево, иначе в правое\n",
        "        if X[feature] <= threshold:\n",
        "            return prediction(tree[\"left\"], X)\n",
        "        else:\n",
        "            return prediction(tree[\"right\"], X)\n",
        "    else:\n",
        "        # Если X - матрица, проходим по каждой строке в данных\n",
        "        return np.array([prediction(tree, row) for row in X])"
      ],
      "metadata": {
        "id": "sm428yqZ9WLw"
      },
      "execution_count": 12,
      "outputs": []
    },
    {
      "cell_type": "code",
      "source": [
        "y_pred = prediction(tree, X_test)"
      ],
      "metadata": {
        "id": "ZiE81k_R7T5G"
      },
      "execution_count": 13,
      "outputs": []
    },
    {
      "cell_type": "code",
      "source": [
        "from sklearn.metrics import accuracy_score\n",
        "\n",
        "# ПРОВЕРКА\n",
        "assert accuracy_score(y_test, y_pred) > 0.93"
      ],
      "metadata": {
        "id": "HyKfeLN1C8ni"
      },
      "execution_count": 14,
      "outputs": []
    },
    {
      "cell_type": "code",
      "source": [
        "accuracy_score(y_test, y_pred)"
      ],
      "metadata": {
        "colab": {
          "base_uri": "https://localhost:8080/"
        },
        "id": "mJx3gUhLX-Rs",
        "outputId": "6a962dd3-e113-44e3-ed19-b9ef55576ec6"
      },
      "execution_count": 15,
      "outputs": [
        {
          "output_type": "execute_result",
          "data": {
            "text/plain": [
              "0.9333333333333333"
            ]
          },
          "metadata": {},
          "execution_count": 15
        }
      ]
    },
    {
      "cell_type": "markdown",
      "source": [
        "Поздравляем с первым реализованным деревом решений!\n",
        "\n",
        "Теперь попробуем обновить функции: сменим критерий на индекс Джини и добавим регуляризацию по максимальной глубине дерева."
      ],
      "metadata": {
        "id": "FCEGR3eI_Gk0"
      }
    },
    {
      "cell_type": "markdown",
      "source": [
        "**Задание 5 (1 балл)**\n",
        "\n",
        "Реализуйте функцию по расчету индекса Джини. Не забудьте про краевые случаи."
      ],
      "metadata": {
        "id": "_QliEyE38zbN"
      }
    },
    {
      "cell_type": "code",
      "source": [
        "def gini_index(y):\n",
        "    # НАЧАЛО ВАШЕГО РЕШЕНИЯ\n",
        "    # Проверка на случай пустого массива\n",
        "    if len(y) == 0:\n",
        "        return 0\n",
        "\n",
        "    # Подсчет количества уникальных классов и их частот\n",
        "    unique, counts = np.unique(y, return_counts=True)\n",
        "    probabilities = counts / counts.sum()\n",
        "\n",
        "    # Вычисление индекса Джини\n",
        "    gini = 1 - np.sum(probabilities ** 2)\n",
        "    # КОНЕЦ ВАШЕГО РЕШЕНИЯ\n",
        "    return gini"
      ],
      "metadata": {
        "id": "eCCCASOu8xzV"
      },
      "execution_count": 16,
      "outputs": []
    },
    {
      "cell_type": "code",
      "source": [
        "# Пустой вектор:\n",
        "assert gini_index(np.array([])) == 0\n",
        "# Вектор с одним элементом:\n",
        "assert gini_index(np.array([1])) == 0\n",
        "# Вектор с двумя одинаковыми элементами:\n",
        "assert gini_index(np.array([2,2])) == 0\n",
        "# Вектор с двумя разными элементами:\n",
        "assert gini_index(np.array([1,2])) == 0.5\n",
        "# Вектор с тремя одинаковыми элементами:\n",
        "assert gini_index(np.array([0,0,0])) == 0\n",
        "# Вектор с тремя элементами, два из которых одинаковые:\n",
        "assert gini_index(np.array([0,0,1])) == 0.4444444444444444\n",
        "# Вектор с тремя элементами, все элементы разные:\n",
        "assert gini_index(np.array([1,2,3])) == 0.6666666666666667\n",
        "# Вектор с четырьмя одинаковыми элементами:\n",
        "assert gini_index(np.array([7,7,7,7])) == 0\n",
        "# Вектор с четырьмя элементами, два из которых одинаковые:\n",
        "assert gini_index(np.array([5,5,2,1])) == 0.625\n",
        "# Вектор с пятью элементами, все элементы разные:\n",
        "assert np.isclose(gini_index(np.array([5,4,3,2,1])), 0.80, atol=0.01)"
      ],
      "metadata": {
        "id": "3z6VFhWTAh3i"
      },
      "execution_count": 17,
      "outputs": []
    },
    {
      "cell_type": "markdown",
      "source": [
        "**Задание 6 (1 балл)**\n",
        "\n",
        "Реализуйте функцию по расчету прироста информации на базе индекса Джини."
      ],
      "metadata": {
        "id": "PMVRRfD6Dt5H"
      }
    },
    {
      "cell_type": "code",
      "source": [
        "def information_gain_gini(y, left, right):\n",
        "    # НАЧАЛО ВАШЕГО РЕШЕНИЯ\n",
        "    # Общий размер выборки\n",
        "    total_size = len(y)\n",
        "\n",
        "    # Если левая или правая выборка пустая, прирост информации равен 0\n",
        "    if len(left) == 0 or len(right) == 0:\n",
        "        return 0\n",
        "\n",
        "    # Вычисление индекса Джини для исходного набора данных\n",
        "    gini_parent = gini_index(y)\n",
        "\n",
        "    # Вычисление индекса Джини для левой и правой выборок\n",
        "    gini_left = gini_index(left)\n",
        "    gini_right = gini_index(right)\n",
        "\n",
        "    # Размеры левой и правой выборок\n",
        "    size_left = len(left)\n",
        "    size_right = len(right)\n",
        "\n",
        "    # Вычисление взвешенного индекса Джини для дочерних узлов\n",
        "    weighted_gini = (size_left / total_size) * gini_left + (size_right / total_size) * gini_right\n",
        "\n",
        "    # Прирост информации\n",
        "    gain = gini_parent - weighted_gini\n",
        "\n",
        "    # КОНЕЦ ВАШЕГО РЕШЕНИЯ\n",
        "    return gain"
      ],
      "metadata": {
        "id": "nLWlQ3upBYt3"
      },
      "execution_count": 18,
      "outputs": []
    },
    {
      "cell_type": "code",
      "source": [
        "# ПРОВЕРКА\n",
        "y, left, right = [0, 0, 1, 1, 1, 1], [0, 0], [1, 1, 1, 1]\n",
        "assert np.isclose(information_gain_gini(y, left, right), 0.44, atol=0.01)\n",
        "\n",
        "y, left, right = [0, 0, 0, 1, 1, 1], [0, 0, 0], [1, 1, 1]\n",
        "assert information_gain_gini(y, left, right) == 0.5\n",
        "\n",
        "y, left, right = [0, 1, 0, 1], [0, 1], [0, 1]\n",
        "assert information_gain_gini(y, left, right) == 0.0\n",
        "\n",
        "y, left, right = [0, 1, 1, 0, 0], [0], [1, 1, 0, 0]\n",
        "assert np.isclose(information_gain_gini(y, left, right), 0.08, atol=0.01)"
      ],
      "metadata": {
        "id": "2z-RyxYbOyyI"
      },
      "execution_count": 19,
      "outputs": []
    },
    {
      "cell_type": "markdown",
      "source": [
        "**Задание 7 (2 балла)**\n",
        "\n",
        "Дополните функцию `decision_tree` условиями на максимальное число узлов `max_depth`. Для этого нужно вести счет узлам, увеличивая его на единицу при каждом разветвлении. В случае когда достигнута максимальная глубина, функция должна возвращать наиболее представленный класс (выше мы уже пользовались `np.bincount`)."
      ],
      "metadata": {
        "id": "3XtU3lunTYkk"
      }
    },
    {
      "cell_type": "code",
      "source": [
        "def best_split(X, y):\n",
        "    best_gini = float('inf')\n",
        "    best_feature = None\n",
        "    best_threshold = None\n",
        "    m, n = X.shape\n",
        "\n",
        "    for feature in range(n):\n",
        "        thresholds = np.unique(X[:, feature])\n",
        "        for threshold in thresholds:\n",
        "            left_mask = X[:, feature] <= threshold\n",
        "            right_mask = X[:, feature] > threshold\n",
        "\n",
        "            if np.any(left_mask) and np.any(right_mask):\n",
        "                gini_left = gini_index(y[left_mask])\n",
        "                gini_right = gini_index(y[right_mask])\n",
        "\n",
        "                weighted_gini = (len(y[left_mask]) * gini_left + len(y[right_mask]) * gini_right) / len(y)\n",
        "\n",
        "                if weighted_gini < best_gini:\n",
        "                    best_gini = weighted_gini\n",
        "                    best_feature = feature\n",
        "                    best_threshold = threshold\n",
        "\n",
        "    return best_feature, best_threshold\n",
        "\n",
        "def decision_tree_gini(X, y, depth=0, max_depth=None):\n",
        "    # Базовый случай\n",
        "    if len(np.unique(y)) == 1:\n",
        "        return {\"label\": y[0]}\n",
        "\n",
        "    # Возвращаем наиболее представленный класс когда достигли максимальной глубины\n",
        "    # НАЧАЛО ВАШЕГО РЕШЕНИЯ\n",
        "    if max_depth is not None and depth >= max_depth:\n",
        "        most_common_class = np.bincount(y).argmax()\n",
        "        return {\"label\": most_common_class}\n",
        "    # КОНЕЦ ВАШЕГО РЕШЕНИЯ\n",
        "\n",
        "    # Допишите остаток функции по аналогии с предыдущей реализацией дерева решений\n",
        "    # НАЧАЛО ВАШЕГО РЕШЕНИЯ\n",
        "    # Находим лучший сплит\n",
        "    feature, threshold = best_split(X, y)\n",
        "\n",
        "    # Если нет подходящего сплита, возвращаем наиболее представленный класс\n",
        "    if feature is None:\n",
        "        return {\"label\": np.bincount(y).argmax()}\n",
        "\n",
        "    # Разделяем данные на левые и правые подмножества\n",
        "    left_mask = X[:, feature] <= threshold\n",
        "    right_mask = X[:, feature] > threshold\n",
        "\n",
        "    left_tree = decision_tree_gini(X[left_mask], y[left_mask], depth + 1, max_depth)\n",
        "    right_tree = decision_tree_gini(X[right_mask], y[right_mask], depth + 1, max_depth)\n",
        "    # КОНЕЦ ВАШЕГО РЕШЕНИЯ\n",
        "# Возвращаем текущий узел\n",
        "    return {\n",
        "        \"feature\": feature,\n",
        "        \"threshold\": threshold,\n",
        "        \"left\": left_tree,\n",
        "        \"right\": right_tree,\n",
        "    }"
      ],
      "metadata": {
        "id": "L0dOhPfjz3-z"
      },
      "execution_count": 20,
      "outputs": []
    },
    {
      "cell_type": "code",
      "source": [
        "# ПРОВЕРКА\n",
        "tree = decision_tree_gini(X_train, y_train, max_depth=2)\n",
        "assert tree['feature'] == 2\n",
        "assert tree['right']['left']['label'] == 1\n",
        "\n",
        "tree = decision_tree_gini(X_train, y_train, max_depth=1)\n",
        "assert tree['left']['label'] == 0\n",
        "assert tree['right']['label'] == 2"
      ],
      "metadata": {
        "id": "Iu3Tz0KTSvo5"
      },
      "execution_count": 21,
      "outputs": []
    },
    {
      "cell_type": "markdown",
      "source": [
        "### Часть 2. Использование библиотечных функций. Бэггинг\n",
        "\n",
        "В этой части мы воспользуемся готовыми функциями из библиотеки `sklearn`. Мы обучим и оценим модель на уже знакомом наборе данных Iris."
      ],
      "metadata": {
        "id": "UaJU3goQUqlf"
      }
    },
    {
      "cell_type": "markdown",
      "source": [
        "**Задание 8 (1 балл)**\n",
        "\n",
        "Инициализируйте бэггинг-классификатор на основе класса `BaggingClassifier`, в параметр `estimator` передайте значение `DecisionTreeClassifier()`, с `n_estimators=10`. Не забудьте задать `random_state` равный нулю.\n",
        "Экземпляр сохраните в переменную `bagging`.\n",
        "\n",
        "Обучите модель по аналогии с предыдущими библиотечными моделями от sklearn. Посчитайте предсказание для тестовой выборки."
      ],
      "metadata": {
        "id": "RxDnqHHCMVzM"
      }
    },
    {
      "cell_type": "code",
      "source": [
        "# Загрузка библиотек\n",
        "from sklearn.ensemble import BaggingClassifier\n",
        "from sklearn.tree import DecisionTreeClassifier\n",
        "\n",
        "# НАЧАЛО ВАШЕГО РЕШЕНИЯ\n",
        "# Инициализация бэггинг-классификатора\n",
        "bagging = BaggingClassifier(\n",
        "    estimator=DecisionTreeClassifier(),\n",
        "    n_estimators=10,\n",
        "    random_state=0\n",
        ")\n",
        "\n",
        "# Обучение модели на тренировочных данных\n",
        "bagging.fit(X_train, y_train)\n",
        "\n",
        "# Предсказание для тестовой выборки\n",
        "y_pred_bagging = bagging.predict(X_test)\n",
        "\n",
        "# Оценка точности предсказаний\n",
        "accuracy = accuracy_score(y_test, y_pred_bagging)\n",
        "print(f\"Точность модели: {accuracy:.2f}\")\n",
        "# КОНЕЦ ВАШЕГО РЕШЕНИЯ"
      ],
      "metadata": {
        "id": "2M-WmtA4MNZM",
        "colab": {
          "base_uri": "https://localhost:8080/"
        },
        "outputId": "1bdab435-6232-4b54-be89-71303d45314c"
      },
      "execution_count": 22,
      "outputs": [
        {
          "output_type": "stream",
          "name": "stdout",
          "text": [
            "Точность модели: 0.97\n"
          ]
        }
      ]
    },
    {
      "cell_type": "code",
      "source": [
        "print(accuracy_score(y_test, y_pred_bagging))"
      ],
      "metadata": {
        "id": "4J4MSqAvWMON",
        "colab": {
          "base_uri": "https://localhost:8080/"
        },
        "outputId": "1e86591f-8c89-437e-b16c-741aa453e995"
      },
      "execution_count": 23,
      "outputs": [
        {
          "output_type": "stream",
          "name": "stdout",
          "text": [
            "0.9666666666666667\n"
          ]
        }
      ]
    },
    {
      "cell_type": "markdown",
      "metadata": {
        "deletable": false,
        "editable": false,
        "nbgrader": {
          "cell_type": "markdown",
          "checksum": "91b88bf44d770c08dd5b2d59408cbee6",
          "grade": false,
          "grade_id": "cell-7d570636228d9211",
          "locked": true,
          "schema_version": 3,
          "solution": false,
          "task": false
        },
        "id": "s1UGZUB17Z-i"
      },
      "source": [
        "## Часть 3. Случайный лес для регрессии.\n",
        "\n",
        "**Случайный лес (Random Forest)** — это алгоритм машинного обучения, который является комбинацией множества решающих деревьев. Он применяется как для задач классификации, так и для задач регрессии.\n",
        "\n",
        "Суть метода заключается в том, что мы строим несколько деревьев решений на случайных подмножествах данных и случайных подмножествах признаков на каждом нелистовом узле, а затем усредняем их ответы для уменьшения эффекта переобучения. Для каждого дерева в случайном лесу используется только подмножество данных, которое выбирается случайным образом с возвращением (bootstrap).\n",
        "\n",
        "Кроме того, для каждого разбиения дерева в случайном лесу выбирается только подмножество признаков, которые можно использовать для разделения узлов. Это позволяет получить более разнообразные деревья и уменьшить вероятность переобучения."
      ]
    },
    {
      "cell_type": "code",
      "execution_count": 24,
      "metadata": {
        "deletable": false,
        "editable": false,
        "nbgrader": {
          "cell_type": "code",
          "checksum": "541f02d21d69d2a50aab2bfc45975250",
          "grade": false,
          "grade_id": "cell-4b968d3440b77d2c",
          "locked": true,
          "schema_version": 3,
          "solution": false,
          "task": false
        },
        "id": "PZ9ZckvI7Z-i"
      },
      "outputs": [],
      "source": [
        "# Загрузка данных\n",
        "from sklearn.datasets import fetch_california_housing\n",
        "\n",
        "# Загружаем California housing датасет\n",
        "data = fetch_california_housing()\n",
        "X, y = data.data, data.target\n",
        "\n",
        "# Разделим данные на тренировочную и тестовую выборки:\n",
        "X_train, X_test, y_train, y_test = train_test_split(X, y, test_size=0.2, random_state=42)"
      ]
    },
    {
      "cell_type": "markdown",
      "metadata": {
        "deletable": false,
        "editable": false,
        "nbgrader": {
          "cell_type": "markdown",
          "checksum": "3921cf0346aafca5d241cecee8073f46",
          "grade": false,
          "grade_id": "cell-585aaf2bfde505b2",
          "locked": true,
          "schema_version": 3,
          "solution": false,
          "task": false
        },
        "id": "HBJ9U1wO7Z-k"
      },
      "source": [
        "**Задание 9 (1 балл)**\n",
        "\n",
        "Инициализируйте экземпляр класса `RandomForestRegressor`,\n",
        "c `n_estimators` равным 100, и `max_depth` равным 5.\n",
        "Снова задайте параметр `random_state` равным 0.\n",
        "Экземпляр сохраните в переменную `rfr`. Обучите модель и рассчитайте MAE с помощью функции `sklearn`."
      ]
    },
    {
      "cell_type": "code",
      "execution_count": 25,
      "metadata": {
        "deletable": false,
        "nbgrader": {
          "cell_type": "code",
          "checksum": "957369930f618c8cbf2eaded60af60a5",
          "grade": false,
          "grade_id": "cell-0807738669e9b21b",
          "locked": false,
          "schema_version": 3,
          "solution": true,
          "task": false
        },
        "id": "w99eLKH_7Z-k",
        "colab": {
          "base_uri": "https://localhost:8080/"
        },
        "outputId": "7f8ee2ff-4be3-4ffc-a557-13afc3fcd304"
      },
      "outputs": [
        {
          "output_type": "stream",
          "name": "stdout",
          "text": [
            "Средняя абсолютная ошибка (MAE): 0.49\n"
          ]
        }
      ],
      "source": [
        "from sklearn.ensemble import RandomForestRegressor\n",
        "from sklearn.metrics import mean_absolute_error\n",
        "\n",
        "# НАЧАЛО ВАШЕГО РЕШЕНИЯ\n",
        "# Инициализация RandomForestRegressor\n",
        "rfr = RandomForestRegressor(n_estimators=100, max_depth=5, random_state=0)\n",
        "\n",
        "# Обучение модели\n",
        "rfr.fit(X_train, y_train)\n",
        "\n",
        "# Предсказание на тестовой выборке\n",
        "y_pred = rfr.predict(X_test)\n",
        "\n",
        "# Расчет MAE\n",
        "mae = mean_absolute_error(y_test, y_pred)\n",
        "print(f\"Средняя абсолютная ошибка (MAE): {mae:.2f}\")\n",
        "\n",
        "# КОНЕЦ ВАШЕГО РЕШЕНИЯ"
      ]
    },
    {
      "cell_type": "code",
      "execution_count": 26,
      "metadata": {
        "deletable": false,
        "editable": false,
        "nbgrader": {
          "cell_type": "code",
          "checksum": "235482e382bbb541957cf46ef03cf59e",
          "grade": true,
          "grade_id": "cell-31e4b54fb1755366",
          "locked": true,
          "points": 2,
          "schema_version": 3,
          "solution": false,
          "task": false
        },
        "id": "HJG5qqd37Z-k"
      },
      "outputs": [],
      "source": [
        "assert type(rfr) == RandomForestRegressor\n",
        "assert mae==0.4897545742445902"
      ]
    },
    {
      "cell_type": "markdown",
      "source": [
        "# Поздравляем!\n",
        "\n",
        "В этом домашнем задании вы вручную реализовали дерево решений, познакомились с рекурсией. Вы также освоили две новые библиотеки `sklearn` и готовы применять их для любых задач, будь то классификация или регрессия. Мы надеемся, что теперь вы лучше понимаете механизм работы деревьев!"
      ],
      "metadata": {
        "id": "mAMu7REdZsWE"
      }
    }
  ]
}